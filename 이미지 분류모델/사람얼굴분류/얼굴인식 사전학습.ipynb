{
 "cells": [
  {
   "cell_type": "markdown",
   "id": "218ab505",
   "metadata": {},
   "source": [
    "### 딥러닝 얼굴인식"
   ]
  },
  {
   "cell_type": "markdown",
   "id": "721574f7",
   "metadata": {},
   "source": [
    "#### 딥러닝 얼굴인식 과정\n",
    "\n",
    "1. 얼굴 검출(Face Detection)\n",
    "\n",
    "먼저, 입력된 이미지에서 얼굴 영역을 찾아 추출합니다.\n",
    "\n",
    "2. 얼굴 정렬(Face Alignment)\n",
    "\n",
    "그리고 얼굴의 주요 랜드마크 포인트(눈, 코, 입, 얼굴 윤곽 등)를 추출합니다.\n",
    "\n",
    "3. 얼굴 정규화(Face Normalization)\n",
    "\n",
    "랜드마크 포인트를 기준으로 얼굴 영역을 회전시키고 얼굴 매칭이 가능한 상태로 변경합니다.\n",
    "\n",
    "4. 얼굴 표현(Face Representation)\n",
    "\n",
    "이후, 얼굴 영역을 임베딩 과정을 거쳐 N차원의 특징벡터로 표현합니다.\n",
    "\n",
    "- 임베딩이란? \n",
    "고차원 데이터를 저체원 공간으로 변환(일정 크기의 벡터로 매핑)하는 것으로, \n",
    "인식에 필요한 정보만 남기는 과정\n",
    "\n",
    "임베딩 과정을 거친 특정벡터는 사람마다 고유의 값을 가지므로, 이후에 서로 비교하는 방식으로 신원 확인이 가능합니다.\n",
    "\n",
    "5. 얼굴 비교(Face Matching)\n",
    "\n",
    "마지막 단계는 입력된 이미지 속 얼굴이 누구인지 판단하기 위해 특징 벡터 간의 유사도를 계싼하는 것으로, \n",
    "목적에 따라 두 종류로 구분할 수 있습니다.\n",
    "\n",
    "- 얼굴 검증\n",
    "두 이미지 속 얼굴이 같은 인물인지 검증(1:1 비교)\n",
    "\n",
    "ex) 모바일 앱 로그인 및 간편 결제\n",
    "\n",
    "- 얼굴 식별\n",
    "이미지 속 얼굴이 누구인지 식별(1:N 비교)\n",
    "\n",
    "ex) 인가된 직원의 건물 출입"
   ]
  },
  {
   "cell_type": "markdown",
   "id": "4bf2cd6d",
   "metadata": {},
   "source": [
    "### DeepFace의 주요 특징\n",
    "\n",
    "얼굴 검출/표현/검증/식별/분석 기능을 Python 함수 및 API 형태로 제공\n",
    "\n",
    "얼굴 검출 및 표현 단계에 다양한 딥러닝 SOTA 모델을 선택하여 조합 사용할 수 있음\n",
    "\n",
    "- SOTA (State-of-the-art) 모델이란? : AI의 특정 분야에서 가장 높은 성능을 달성한 모델\n",
    "\n",
    "검출 모델 : OpenCV, MTCNN, RetinaFace 등 총 6가지 모델 사용 가능\n",
    "\n",
    "표현 모델 : Dlib, Facenet, ArcFace 등 총 9가지 모델 사용 가능\n",
    "\n",
    "(실제 모델은 8가지이나, Facenet은 128, 512차원의 두 가지 버전 제공)\n",
    "\n",
    "두 얼굴 특징벡터 간 유사도를 측정하기 위해 거리 기반 및 각도 기반의 메트릭(Metric) 사용 가능"
   ]
  },
  {
   "cell_type": "markdown",
   "id": "e57852e3",
   "metadata": {},
   "source": [
    "#### 검출 모델\n",
    "\n",
    "얼굴을 이미지에서 찾는 역할을 하는 모델\n",
    "\n",
    "1. OPEN CV\n",
    "- 방식 : Haar Cascade 기반\n",
    "- 장점 : 빠름, CPU에서도 잘 돌아감\n",
    "- 단점 : 정확도 낮음, 조명/각도에 취약\n",
    "- 추천 상황 : 간단한 데모나 빠른 테스트용\n",
    "\n",
    "2. SSD(Single Shot Detector)\n",
    "- 백엔드 : TensorFlow\n",
    "- 장점 : 속도와 정확도의 균형\n",
    "- 단점 : RetinaFace나 MTCNN보다 덜 정확\n",
    "- 추천 상황 : 실시간 얼굴 검출이 필요한 경우\n",
    "\n",
    "3. Dlib\n",
    "- 방식 : HOG + CNN 모델\n",
    "- 장점 : 적당한 속도와 정확도\n",
    "- 단점 : 조명이나 각도 변화에 민감할 수 있음\n",
    "- 추천 상황 : 내장형 시스템이나 간단한 얼굴 인식\n",
    "\n",
    "4. MTCNN (Multi-task Cascaded CNN)\n",
    "- 특징 : 얼굴 검출 + 랜드마크 검출\n",
    "- 장점 : 높은 정확도, 얼굴 각도와 크기에 잘 대응\n",
    "- 단점 : 상대적으로 느릴 수 있음\n",
    "- 추천 상황 : 고정된 이미지나 얼굴 크기가 작은 이미지\n",
    "\n",
    "5. RetinaFace\n",
    "- 특징: 가장 정교한 검출 모델 중 하나\n",
    "- 장점: 정밀한 얼굴 경계 상자와 랜드마크 검출 가능\n",
    "- 단점: GPU 없으면 느림\n",
    "- 추천 상황: 정확도가 매우 중요한 프로젝트 (ex. 고해상도 이미지)\n",
    "\n",
    "6. MediaPipe\n",
    "- Google에서 만든 lightweight 모델\n",
    "- 장점: 빠르고 리소스 적음, 얼굴 468개 랜드마크 검출\n",
    "- 단점: 일부 특수 상황에서 정확도 떨어질 수 있음\n",
    "- **추천 상황: 웹캠 기반 실시간 처리**\n",
    "\n",
    "\n"
   ]
  },
  {
   "cell_type": "markdown",
   "id": "b2c304ab",
   "metadata": {},
   "source": [
    "#### 표현 모델 (Face Recognition Models)\n",
    "\n",
    "검출한 얼굴을 수치로 변환해 비교 및 인식하는 데 쓰이는 embedding 모델\n",
    "\n",
    "1. VGG-Face\n",
    "- 백엔드 : VGG-16 기반 CNN\n",
    "- 벡터 차원 : 2622\n",
    "- 장점 : DeepFace 기본값, 학습 데이터 풍부\n",
    "- 단점 : 비교적 무겁고 느림\n",
    "- 추천 상황 : 학습된 대형 얼굴 데이터셋 기반 인식\n",
    "\n",
    "2. Facenet\n",
    "- 특징 : Triplet loss를 이용한 학습\n",
    "- 백터 차원 : 128\n",
    "- 장점 : 높은 정확도, 대표적인 얼굴 인식 모델\n",
    "- 추천 상황 : 대부분의 얼굴 인식 작업에 적합\n",
    "\n",
    "3. Facenet512\n",
    "- 특징 : Facenet의 확장 버전\n",
    "- 벡터 차원 : 512\n",
    "- 장점 : 더 높은 정밀도\n",
    "- 단점: 속도와 메모리 비용 증가\n",
    "- 추천 상황: 대규모 비교 작업\n",
    "\n",
    "4. OpenFace\n",
    "- 벡터 차원: 128\n",
    "- 장점: 경량, 빠름\n",
    "- 단점: 정확도는 약간 떨어짐\n",
    "- 추천 상황: 리소스가 제한된 장치나 실시간 처리\n",
    "\n",
    "5. DeepFace\n",
    "- Facebook이 제안한 모델\n",
    "- 벡터 차원: 4096\n",
    "- 장점: 선구적인 모델\n",
    "- 단점: 최신 모델 대비 정확도 떨어짐\n",
    "- 추천 상황: 비교용 or 연구 목적으로 참고\n",
    "\n",
    "6. Dlib\n",
    "- 벡터 차원: 128\n",
    "- 장점: 내장 모델, 빠르고 가볍다\n",
    "- 단점: 조명이나 포즈 변화에 약함\n",
    "- 추천 상황: 로컬에서 가볍게 돌릴 때\n",
    "\n",
    "7. ArcFace\n",
    "- 최신 모델 중 하나, 정확도 최고\n",
    "- 벡터 차원: 512\n",
    "- 장점: 얼굴 유사도 인식 정확도 최상\n",
    "- 단점: 속도는 느릴 수 있음\n",
    "- 추천 상황: 고정밀 인식 서비스\n",
    "\n",
    "8. SFace\n",
    "- Huawei에서 제안한 모델\n",
    "- 장점: 고성능 + 고속성\n",
    "- 추천 상황: 최신 리서치 기반 시스템에 적합\n",
    "\n",
    "9. GhostFaceNet\n",
    "- 경량화 모델\n",
    "- 특징: 모바일 환경에 최적화\n",
    "- 장점: 속도 빠름, 가볍고 실시간 가능\n",
    "- 추천 상황: 모바일이나 IoT 장치\n",
    "\n"
   ]
  },
  {
   "cell_type": "markdown",
   "id": "dd044b85",
   "metadata": {},
   "source": [
    "1. detector_backend (얼굴 검출기 선택)\n",
    "- 역할: 이미지에서 얼굴을 찾는 데 사용하는 알고리즘\n",
    "\n",
    "- 선택 가능 값: \"opencv\" (기본값), \"ssd\", \"dlib\", \"mtcnn\", \"retinaface\",\"mediapipe\"\n",
    "\n"
   ]
  },
  {
   "cell_type": "code",
   "execution_count": null,
   "id": "25530fcc",
   "metadata": {
    "vscode": {
     "languageId": "plaintext"
    }
   },
   "outputs": [],
   "source": [
    "#예시 코드\n",
    "\n",
    "DeepFace.analyze(img_path=\"img.jpg\", detector_backend=\"retinaface\")"
   ]
  },
  {
   "cell_type": "markdown",
   "id": "17c0fb33",
   "metadata": {},
   "source": [
    "2. model_name (얼굴 표현 모델 선택)\n",
    "- 역할: 얼굴 임베딩 추출 (특징 벡터)\n",
    "- 선택 가능 값: \"VGG-Face\" (기본값),\"Facenet\",\"Facenet512\",\"OpenFace\",\"DeepFace\",\"Dlib\",\"ArcFace\",\"SFace\", \"GhostFaceNet\""
   ]
  },
  {
   "cell_type": "code",
   "execution_count": null,
   "id": "a83d3284",
   "metadata": {
    "vscode": {
     "languageId": "plaintext"
    }
   },
   "outputs": [],
   "source": [
    "# 예시코드\n",
    "\n",
    "DeepFace.verify(img1_path, img2_path, model_name=\"ArcFace\")"
   ]
  },
  {
   "cell_type": "markdown",
   "id": "e0ee5d3f",
   "metadata": {
    "vscode": {
     "languageId": "plaintext"
    }
   },
   "source": [
    "\n",
    "3. enforce_detection (얼굴이 없으면 오류 발생 여부)\n",
    "\n",
    "역할: 얼굴이 검출되지 않을 때 예외 발생 여부\n",
    "\n",
    "기본값: True\n",
    "\n",
    "설정 예:\n",
    "\n",
    "True: 얼굴이 없으면 오류 발생\n",
    "\n",
    "False: 얼굴이 없어도 오류 없이 진행"
   ]
  },
  {
   "cell_type": "code",
   "execution_count": null,
   "id": "43f75f89",
   "metadata": {
    "vscode": {
     "languageId": "plaintext"
    }
   },
   "outputs": [],
   "source": [
    "DeepFace.analyze(\"img.jpg\", enforce_detection=False)"
   ]
  },
  {
   "cell_type": "markdown",
   "id": "d62e5b77",
   "metadata": {},
   "source": [
    "4. align (얼굴 정렬 여부)\n",
    "\n",
    "역할: 눈, 코, 입 위치를 기준으로 얼굴을 정렬할지 결정\n",
    "\n",
    "기본값: True\n",
    "\n",
    "설정 예:\n",
    "\n",
    "True: 정렬 수행 (정확도 향상)\n",
    "\n",
    "False: 원본 그대로 사용"
   ]
  },
  {
   "cell_type": "code",
   "execution_count": null,
   "id": "e76970d8",
   "metadata": {
    "vscode": {
     "languageId": "plaintext"
    }
   },
   "outputs": [],
   "source": [
    "DeepFace.verify(img1_path, img2_path, align=True)\n"
   ]
  },
  {
   "cell_type": "markdown",
   "id": "a3f0b711",
   "metadata": {
    "vscode": {
     "languageId": "plaintext"
    }
   },
   "source": [
    "5. target_size (이미지 리사이즈 크기)\n",
    "\n",
    "역할: 모델 입력 사이즈에 맞게 이미지를 resize\n",
    "\n",
    "자동 처리되지만 수동 조정도 가능\n",
    "\n",
    "일반적으로 사용자가 직접 설정할 필요는 거의 없음"
   ]
  },
  {
   "cell_type": "markdown",
   "id": "c86f6636",
   "metadata": {},
   "source": [
    "6. normalization (픽셀 정규화 방식)\n",
    "\n",
    "일부 모델에서 내부적으로 사용\n",
    "\n",
    "사용자 설정은 불가하지만 참고로:\n",
    "\n",
    "base, raw, Facenet, VGGFace 등의 스케일링 방법 존재"
   ]
  },
  {
   "cell_type": "markdown",
   "id": "c735b328",
   "metadata": {},
   "source": [
    "actions (분석 항목 지정)\n",
    "\n",
    "역할: 어떤 분석을 수행할지 지정\n",
    "\n",
    "선택 가능 항목:\n",
    "\n",
    "\"emotion\": 감정 분석\n",
    "\n",
    "\"age\": 나이 추정\n",
    "\n",
    "\"gender\": 성별 예측\n",
    "\n",
    "\"race\": 인종 분류\n"
   ]
  },
  {
   "cell_type": "code",
   "execution_count": null,
   "id": "75171abe",
   "metadata": {
    "vscode": {
     "languageId": "plaintext"
    }
   },
   "outputs": [],
   "source": [
    "from deepface import DeepFace\n",
    "\n",
    "result = DeepFace.analyze(\n",
    "    img_path=\"face.jpg\",\n",
    "    actions=[\"emotion\", \"age\", \"gender\", \"race\"],\n",
    "    detector_backend=\"retinaface\",\n",
    "    enforce_detection=True,\n",
    "    align=True,\n",
    "    model_name=\"ArcFace\"\n",
    ")\n"
   ]
  }
 ],
 "metadata": {
  "language_info": {
   "name": "python"
  }
 },
 "nbformat": 4,
 "nbformat_minor": 5
}
