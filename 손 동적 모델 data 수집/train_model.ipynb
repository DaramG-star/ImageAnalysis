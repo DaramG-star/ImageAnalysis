{
 "cells": [
  {
   "cell_type": "markdown",
   "id": "4933e672",
   "metadata": {},
   "source": [
    "### 데이터 변환"
   ]
  },
  {
   "cell_type": "code",
   "execution_count": 3,
   "id": "bce76bcc",
   "metadata": {},
   "outputs": [
    {
     "name": "stdout",
     "output_type": "stream",
     "text": [
      "현재 경로: c:\\Users\\SSAFY\\Desktop\\daramstudy\\ImageAnalysis\\손 동적 모델 data 수집\n"
     ]
    }
   ],
   "source": [
    "import os\n",
    "print(\"현재 경로:\", os.getcwd())\n"
   ]
  },
  {
   "cell_type": "code",
   "execution_count": 4,
   "id": "e1e1799b",
   "metadata": {},
   "outputs": [
    {
     "name": "stdout",
     "output_type": "stream",
     "text": [
      "✅ 존재함: c:\\Users\\SSAFY\\Desktop\\daramstudy\\ImageAnalysis\\손 동적 모델 data 수집\\..\\gesture_data\\fire.npy\n",
      "✅ 존재함: c:\\Users\\SSAFY\\Desktop\\daramstudy\\ImageAnalysis\\손 동적 모델 data 수집\\..\\gesture_data\\shot.npy\n",
      "✅ 존재함: c:\\Users\\SSAFY\\Desktop\\daramstudy\\ImageAnalysis\\손 동적 모델 data 수집\\..\\gesture_data\\nono.npy\n",
      "✅ 존재함: c:\\Users\\SSAFY\\Desktop\\daramstudy\\ImageAnalysis\\손 동적 모델 data 수집\\..\\gesture_data\\hit.npy\n",
      "✅ 존재함: c:\\Users\\SSAFY\\Desktop\\daramstudy\\ImageAnalysis\\손 동적 모델 data 수집\\..\\gesture_data\\hi.npy\n",
      "✅ 존재함: c:\\Users\\SSAFY\\Desktop\\daramstudy\\ImageAnalysis\\손 동적 모델 data 수집\\..\\gesture_data\\nyan.npy\n",
      "✅ 존재함: c:\\Users\\SSAFY\\Desktop\\daramstudy\\ImageAnalysis\\손 동적 모델 data 수집\\..\\gesture_data\\none.npy\n"
     ]
    }
   ],
   "source": [
    "import os\n",
    "\n",
    "DATA_PATH = os.path.join(os.getcwd(), '..', 'gesture_data')\n",
    "gestures = ['fire', 'shot', 'nono', 'hit', 'hi', 'nyan', 'none']\n",
    "\n",
    "for label in gestures:\n",
    "    file_path = os.path.join(DATA_PATH, f\"{label}.npy\")\n",
    "    if os.path.exists(file_path):\n",
    "        print(f\"✅ 존재함: {file_path}\")\n",
    "    else:\n",
    "        print(f\"❌ 없음: {file_path}\")\n"
   ]
  },
  {
   "cell_type": "code",
   "execution_count": 5,
   "id": "bbfb4105",
   "metadata": {},
   "outputs": [
    {
     "name": "stdout",
     "output_type": "stream",
     "text": [
      "✅ X shape: (2403, 30, 63)\n",
      "✅ y shape: (2403, 7)\n"
     ]
    }
   ],
   "source": [
    "import numpy as np\n",
    "import os\n",
    "from sklearn.preprocessing import LabelEncoder\n",
    "from tensorflow.keras.utils import to_categorical\n",
    "\n",
    "DATA_PATH = os.path.join(os.getcwd(), '..', 'gesture_data')\n",
    "gestures = ['fire', 'shot', 'nono', 'hit', 'hi', 'nyan', 'none']\n",
    "\n",
    "X = []\n",
    "y = []\n",
    "\n",
    "# 각 제스처 파일 로드\n",
    "for label in gestures:\n",
    "    file_path = os.path.join(DATA_PATH, f\"{label}.npy\")\n",
    "    sequences = np.load(file_path)  # shape: (n_sequences, 30, 63)\n",
    "    \n",
    "    X.extend(sequences)\n",
    "    y.extend([label] * len(sequences))  # 각 sequence에 해당 라벨 추가\n",
    "\n",
    "X = np.array(X)\n",
    "y = np.array(y)\n",
    "\n",
    "# 라벨 인코딩 (문자 → 숫자 → 원-핫 벡터)\n",
    "label_encoder = LabelEncoder()\n",
    "y_encoded = label_encoder.fit_transform(y)\n",
    "y_categorical = to_categorical(y_encoded)\n",
    "\n",
    "print(\"✅ X shape:\", X.shape)  # (전체 sequence 개수, 30, 63)\n",
    "print(\"✅ y shape:\", y_categorical.shape)  # (전체 sequence 개수, 클래스 수)\n"
   ]
  },
  {
   "cell_type": "code",
   "execution_count": 6,
   "id": "86002b34",
   "metadata": {},
   "outputs": [
    {
     "name": "stdout",
     "output_type": "stream",
     "text": [
      "Epoch 1/30\n"
     ]
    },
    {
     "name": "stderr",
     "output_type": "stream",
     "text": [
      "c:\\Users\\SSAFY\\AppData\\Local\\Programs\\Python\\Python310\\lib\\site-packages\\keras\\src\\layers\\rnn\\rnn.py:199: UserWarning: Do not pass an `input_shape`/`input_dim` argument to a layer. When using Sequential models, prefer using an `Input(shape)` object as the first layer in the model instead.\n",
      "  super().__init__(**kwargs)\n"
     ]
    },
    {
     "name": "stdout",
     "output_type": "stream",
     "text": [
      "\u001b[1m61/61\u001b[0m \u001b[32m━━━━━━━━━━━━━━━━━━━━\u001b[0m\u001b[37m\u001b[0m \u001b[1m2s\u001b[0m 15ms/step - accuracy: 0.2392 - loss: 1.8575 - val_accuracy: 0.3534 - val_loss: 1.6667\n",
      "Epoch 2/30\n",
      "\u001b[1m61/61\u001b[0m \u001b[32m━━━━━━━━━━━━━━━━━━━━\u001b[0m\u001b[37m\u001b[0m \u001b[1m1s\u001b[0m 11ms/step - accuracy: 0.4281 - loss: 1.6175 - val_accuracy: 0.6008 - val_loss: 1.1947\n",
      "Epoch 3/30\n",
      "\u001b[1m61/61\u001b[0m \u001b[32m━━━━━━━━━━━━━━━━━━━━\u001b[0m\u001b[37m\u001b[0m \u001b[1m1s\u001b[0m 10ms/step - accuracy: 0.5952 - loss: 1.4047 - val_accuracy: 0.6237 - val_loss: 1.1229\n",
      "Epoch 4/30\n",
      "\u001b[1m61/61\u001b[0m \u001b[32m━━━━━━━━━━━━━━━━━━━━\u001b[0m\u001b[37m\u001b[0m \u001b[1m1s\u001b[0m 11ms/step - accuracy: 0.6797 - loss: 1.0063 - val_accuracy: 0.6881 - val_loss: 0.7071\n",
      "Epoch 5/30\n",
      "\u001b[1m61/61\u001b[0m \u001b[32m━━━━━━━━━━━━━━━━━━━━\u001b[0m\u001b[37m\u001b[0m \u001b[1m1s\u001b[0m 11ms/step - accuracy: 0.7471 - loss: 0.6681 - val_accuracy: 0.7942 - val_loss: 0.5978\n",
      "Epoch 6/30\n",
      "\u001b[1m61/61\u001b[0m \u001b[32m━━━━━━━━━━━━━━━━━━━━\u001b[0m\u001b[37m\u001b[0m \u001b[1m1s\u001b[0m 11ms/step - accuracy: 0.7826 - loss: 0.5713 - val_accuracy: 0.7152 - val_loss: 4.6287\n",
      "Epoch 7/30\n",
      "\u001b[1m61/61\u001b[0m \u001b[32m━━━━━━━━━━━━━━━━━━━━\u001b[0m\u001b[37m\u001b[0m \u001b[1m1s\u001b[0m 10ms/step - accuracy: 0.7637 - loss: 0.8227 - val_accuracy: 0.8815 - val_loss: 0.4058\n",
      "Epoch 8/30\n",
      "\u001b[1m61/61\u001b[0m \u001b[32m━━━━━━━━━━━━━━━━━━━━\u001b[0m\u001b[37m\u001b[0m \u001b[1m1s\u001b[0m 11ms/step - accuracy: 0.8774 - loss: 0.4691 - val_accuracy: 0.8191 - val_loss: 0.5239\n",
      "Epoch 9/30\n",
      "\u001b[1m61/61\u001b[0m \u001b[32m━━━━━━━━━━━━━━━━━━━━\u001b[0m\u001b[37m\u001b[0m \u001b[1m1s\u001b[0m 11ms/step - accuracy: 0.8817 - loss: 0.4205 - val_accuracy: 0.8898 - val_loss: 0.3618\n",
      "Epoch 10/30\n",
      "\u001b[1m61/61\u001b[0m \u001b[32m━━━━━━━━━━━━━━━━━━━━\u001b[0m\u001b[37m\u001b[0m \u001b[1m1s\u001b[0m 10ms/step - accuracy: 0.9207 - loss: 0.2459 - val_accuracy: 0.9210 - val_loss: 0.2961\n",
      "Epoch 11/30\n",
      "\u001b[1m61/61\u001b[0m \u001b[32m━━━━━━━━━━━━━━━━━━━━\u001b[0m\u001b[37m\u001b[0m \u001b[1m1s\u001b[0m 11ms/step - accuracy: 0.9538 - loss: 0.1677 - val_accuracy: 0.9543 - val_loss: 0.1965\n",
      "Epoch 12/30\n",
      "\u001b[1m61/61\u001b[0m \u001b[32m━━━━━━━━━━━━━━━━━━━━\u001b[0m\u001b[37m\u001b[0m \u001b[1m1s\u001b[0m 11ms/step - accuracy: 0.9507 - loss: 0.1943 - val_accuracy: 0.9605 - val_loss: 0.1631\n",
      "Epoch 13/30\n",
      "\u001b[1m61/61\u001b[0m \u001b[32m━━━━━━━━━━━━━━━━━━━━\u001b[0m\u001b[37m\u001b[0m \u001b[1m1s\u001b[0m 11ms/step - accuracy: 0.9308 - loss: 0.2385 - val_accuracy: 0.9501 - val_loss: 0.2051\n",
      "Epoch 14/30\n",
      "\u001b[1m61/61\u001b[0m \u001b[32m━━━━━━━━━━━━━━━━━━━━\u001b[0m\u001b[37m\u001b[0m \u001b[1m1s\u001b[0m 11ms/step - accuracy: 0.9612 - loss: 0.1617 - val_accuracy: 0.8129 - val_loss: 0.5057\n",
      "Epoch 15/30\n",
      "\u001b[1m61/61\u001b[0m \u001b[32m━━━━━━━━━━━━━━━━━━━━\u001b[0m\u001b[37m\u001b[0m \u001b[1m1s\u001b[0m 11ms/step - accuracy: 0.8951 - loss: 0.2989 - val_accuracy: 0.9418 - val_loss: 0.2567\n",
      "Epoch 16/30\n",
      "\u001b[1m61/61\u001b[0m \u001b[32m━━━━━━━━━━━━━━━━━━━━\u001b[0m\u001b[37m\u001b[0m \u001b[1m1s\u001b[0m 11ms/step - accuracy: 0.9555 - loss: 0.1566 - val_accuracy: 0.9730 - val_loss: 0.1272\n",
      "Epoch 17/30\n",
      "\u001b[1m61/61\u001b[0m \u001b[32m━━━━━━━━━━━━━━━━━━━━\u001b[0m\u001b[37m\u001b[0m \u001b[1m1s\u001b[0m 11ms/step - accuracy: 0.9768 - loss: 0.0918 - val_accuracy: 0.9647 - val_loss: 0.1376\n",
      "Epoch 18/30\n",
      "\u001b[1m61/61\u001b[0m \u001b[32m━━━━━━━━━━━━━━━━━━━━\u001b[0m\u001b[37m\u001b[0m \u001b[1m1s\u001b[0m 10ms/step - accuracy: 0.9726 - loss: 0.0952 - val_accuracy: 0.9730 - val_loss: 0.1537\n",
      "Epoch 19/30\n",
      "\u001b[1m61/61\u001b[0m \u001b[32m━━━━━━━━━━━━━━━━━━━━\u001b[0m\u001b[37m\u001b[0m \u001b[1m1s\u001b[0m 11ms/step - accuracy: 0.9794 - loss: 0.0747 - val_accuracy: 0.9751 - val_loss: 0.0970\n",
      "Epoch 20/30\n",
      "\u001b[1m61/61\u001b[0m \u001b[32m━━━━━━━━━━━━━━━━━━━━\u001b[0m\u001b[37m\u001b[0m \u001b[1m1s\u001b[0m 11ms/step - accuracy: 0.9827 - loss: 0.0590 - val_accuracy: 0.9792 - val_loss: 0.0856\n",
      "Epoch 21/30\n",
      "\u001b[1m61/61\u001b[0m \u001b[32m━━━━━━━━━━━━━━━━━━━━\u001b[0m\u001b[37m\u001b[0m \u001b[1m1s\u001b[0m 11ms/step - accuracy: 0.9747 - loss: 0.0712 - val_accuracy: 0.9813 - val_loss: 0.0813\n",
      "Epoch 22/30\n",
      "\u001b[1m61/61\u001b[0m \u001b[32m━━━━━━━━━━━━━━━━━━━━\u001b[0m\u001b[37m\u001b[0m \u001b[1m1s\u001b[0m 11ms/step - accuracy: 0.9818 - loss: 0.0589 - val_accuracy: 0.9730 - val_loss: 0.1389\n",
      "Epoch 23/30\n",
      "\u001b[1m61/61\u001b[0m \u001b[32m━━━━━━━━━━━━━━━━━━━━\u001b[0m\u001b[37m\u001b[0m \u001b[1m1s\u001b[0m 11ms/step - accuracy: 0.9776 - loss: 0.0606 - val_accuracy: 0.9792 - val_loss: 0.1069\n",
      "Epoch 24/30\n",
      "\u001b[1m61/61\u001b[0m \u001b[32m━━━━━━━━━━━━━━━━━━━━\u001b[0m\u001b[37m\u001b[0m \u001b[1m1s\u001b[0m 11ms/step - accuracy: 0.9809 - loss: 0.0628 - val_accuracy: 0.9293 - val_loss: 0.2726\n",
      "Epoch 25/30\n",
      "\u001b[1m61/61\u001b[0m \u001b[32m━━━━━━━━━━━━━━━━━━━━\u001b[0m\u001b[37m\u001b[0m \u001b[1m1s\u001b[0m 10ms/step - accuracy: 0.9504 - loss: 0.2032 - val_accuracy: 0.9792 - val_loss: 0.1109\n",
      "Epoch 26/30\n",
      "\u001b[1m61/61\u001b[0m \u001b[32m━━━━━━━━━━━━━━━━━━━━\u001b[0m\u001b[37m\u001b[0m \u001b[1m1s\u001b[0m 11ms/step - accuracy: 0.9816 - loss: 0.0681 - val_accuracy: 0.9771 - val_loss: 0.1008\n",
      "Epoch 27/30\n",
      "\u001b[1m61/61\u001b[0m \u001b[32m━━━━━━━━━━━━━━━━━━━━\u001b[0m\u001b[37m\u001b[0m \u001b[1m1s\u001b[0m 11ms/step - accuracy: 0.9887 - loss: 0.0470 - val_accuracy: 0.9688 - val_loss: 0.1266\n",
      "Epoch 28/30\n",
      "\u001b[1m61/61\u001b[0m \u001b[32m━━━━━━━━━━━━━━━━━━━━\u001b[0m\u001b[37m\u001b[0m \u001b[1m1s\u001b[0m 11ms/step - accuracy: 0.9781 - loss: 0.0627 - val_accuracy: 0.9792 - val_loss: 0.0951\n",
      "Epoch 29/30\n",
      "\u001b[1m61/61\u001b[0m \u001b[32m━━━━━━━━━━━━━━━━━━━━\u001b[0m\u001b[37m\u001b[0m \u001b[1m1s\u001b[0m 11ms/step - accuracy: 0.9832 - loss: 0.0511 - val_accuracy: 0.9771 - val_loss: 0.0928\n",
      "Epoch 30/30\n",
      "\u001b[1m61/61\u001b[0m \u001b[32m━━━━━━━━━━━━━━━━━━━━\u001b[0m\u001b[37m\u001b[0m \u001b[1m1s\u001b[0m 11ms/step - accuracy: 0.9813 - loss: 0.0527 - val_accuracy: 0.9730 - val_loss: 0.1214\n"
     ]
    },
    {
     "name": "stderr",
     "output_type": "stream",
     "text": [
      "WARNING:absl:You are saving your model as an HDF5 file via `model.save()` or `keras.saving.save_model(model)`. This file format is considered legacy. We recommend using instead the native Keras format, e.g. `model.save('my_model.keras')` or `keras.saving.save_model(model, 'my_model.keras')`. \n"
     ]
    },
    {
     "name": "stdout",
     "output_type": "stream",
     "text": [
      "✅ 모델 저장 완료: gesture_rnn_model12.h5\n"
     ]
    }
   ],
   "source": [
    "from tensorflow.keras.models import Sequential\n",
    "from tensorflow.keras.layers import LSTM, Dense, Dropout\n",
    "from sklearn.model_selection import train_test_split\n",
    "\n",
    "# 데이터셋 나누기\n",
    "X_train, X_test, y_train, y_test = train_test_split(\n",
    "    X, y_categorical, test_size=0.2, random_state=42, shuffle=True\n",
    ")\n",
    "\n",
    "# 모델 정의\n",
    "model = Sequential()\n",
    "model.add(LSTM(64, return_sequences=True, activation='relu', input_shape=(30, 63)))\n",
    "model.add(LSTM(64, return_sequences=False, activation='relu'))\n",
    "model.add(Dropout(0.3))\n",
    "model.add(Dense(64, activation='relu'))\n",
    "model.add(Dense(len(gestures), activation='softmax'))  # 클래스 수 = 6\n",
    "\n",
    "# 컴파일\n",
    "model.compile(optimizer='adam', loss='categorical_crossentropy', metrics=['accuracy'])\n",
    "\n",
    "# 학습\n",
    "history = model.fit(\n",
    "    X_train, y_train,\n",
    "    epochs=30,\n",
    "    batch_size=32,\n",
    "    validation_data=(X_test, y_test)\n",
    ")\n",
    "\n",
    "# 저장\n",
    "model.save('gesture_rnn_model2.h5')\n",
    "print(\"✅ 모델 저장 완료: gesture_rnn_model12.h5\")\n"
   ]
  },
  {
   "cell_type": "code",
   "execution_count": 7,
   "id": "ede29cd2",
   "metadata": {},
   "outputs": [
    {
     "name": "stderr",
     "output_type": "stream",
     "text": [
      "WARNING:absl:Compiled the loaded model, but the compiled metrics have yet to be built. `model.compile_metrics` will be empty until you train or evaluate the model.\n"
     ]
    },
    {
     "name": "stdout",
     "output_type": "stream",
     "text": [
      "INFO:tensorflow:Assets written to: C:\\Users\\SSAFY\\AppData\\Local\\Temp\\tmp0hpp2v47\\assets\n"
     ]
    },
    {
     "name": "stderr",
     "output_type": "stream",
     "text": [
      "INFO:tensorflow:Assets written to: C:\\Users\\SSAFY\\AppData\\Local\\Temp\\tmp0hpp2v47\\assets\n"
     ]
    },
    {
     "name": "stdout",
     "output_type": "stream",
     "text": [
      "Saved artifact at 'C:\\Users\\SSAFY\\AppData\\Local\\Temp\\tmp0hpp2v47'. The following endpoints are available:\n",
      "\n",
      "* Endpoint 'serve'\n",
      "  args_0 (POSITIONAL_ONLY): TensorSpec(shape=(None, 30, 63), dtype=tf.float32, name='input_layer')\n",
      "Output Type:\n",
      "  TensorSpec(shape=(None, 7), dtype=tf.float32, name=None)\n",
      "Captures:\n",
      "  1933488883136: TensorSpec(shape=(), dtype=tf.resource, name=None)\n",
      "  1933471766784: TensorSpec(shape=(), dtype=tf.resource, name=None)\n",
      "  1933488891408: TensorSpec(shape=(), dtype=tf.resource, name=None)\n",
      "  1933494550224: TensorSpec(shape=(), dtype=tf.resource, name=None)\n",
      "  1933494548992: TensorSpec(shape=(), dtype=tf.resource, name=None)\n",
      "  1933494547408: TensorSpec(shape=(), dtype=tf.resource, name=None)\n",
      "  1933494591808: TensorSpec(shape=(), dtype=tf.resource, name=None)\n",
      "  1933494592512: TensorSpec(shape=(), dtype=tf.resource, name=None)\n",
      "  1933494598848: TensorSpec(shape=(), dtype=tf.resource, name=None)\n",
      "  1933494590576: TensorSpec(shape=(), dtype=tf.resource, name=None)\n"
     ]
    }
   ],
   "source": [
    "import tensorflow as tf\n",
    "\n",
    "model = tf.keras.models.load_model('gesture_rnn_model2.h5')\n",
    "\n",
    "converter = tf.lite.TFLiteConverter.from_keras_model(model)\n",
    "\n",
    "# ⚠️ 핵심 옵션들 추가\n",
    "converter.target_spec.supported_ops = [\n",
    "    tf.lite.OpsSet.TFLITE_BUILTINS,  # 기본 TFLite 연산\n",
    "    tf.lite.OpsSet.SELECT_TF_OPS     # TF 연산 일부 허용\n",
    "]\n",
    "converter._experimental_lower_tensor_list_ops = False\n",
    "\n",
    "# 변환\n",
    "tflite_model = converter.convert()\n",
    "\n",
    "# 저장\n",
    "with open('gesture_rnn_model1.tflite', 'wb') as f:\n",
    "    f.write(tflite_model)\n"
   ]
  },
  {
   "cell_type": "code",
   "execution_count": 8,
   "id": "804acfeb",
   "metadata": {},
   "outputs": [
    {
     "data": {
      "image/png": "[encoded data removed]",
      "text/plain": [
       "<Figure size 640x480 with 1 Axes>"
      ]
     },
     "metadata": {},
     "output_type": "display_data"
    }
   ],
   "source": [
    "import matplotlib.pyplot as plt\n",
    "\n",
    "plt.plot(history.history['accuracy'], label='train acc')\n",
    "plt.plot(history.history['val_accuracy'], label='val acc')\n",
    "plt.legend()\n",
    "plt.title('Accuracy')\n",
    "plt.show()\n"
   ]
  }
 ],
 "metadata": {
  "kernelspec": {
   "display_name": "Python 3",
   "language": "python",
   "name": "python3"
  },
  "language_info": {
   "codemirror_mode": {
    "name": "ipython",
    "version": 3
   },
   "file_extension": ".py",
   "mimetype": "text/x-python",
   "name": "python",
   "nbconvert_exporter": "python",
   "pygments_lexer": "ipython3",
   "version": "3.10.10"
  }
 },
 "nbformat": 4,
 "nbformat_minor": 5
}
