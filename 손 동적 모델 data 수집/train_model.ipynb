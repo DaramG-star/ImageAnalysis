{
 "cells": [
  {
   "cell_type": "markdown",
   "id": "4933e672",
   "metadata": {},
   "source": [
    "### 데이터 변환"
   ]
  },
  {
   "cell_type": "code",
   "execution_count": 27,
   "id": "bce76bcc",
   "metadata": {},
   "outputs": [
    {
     "name": "stdout",
     "output_type": "stream",
     "text": [
      "현재 경로: c:\\Users\\SSAFY\\Desktop\\daramstudy\\ImageAnalysis\\손 동적 모델 data 수집\n"
     ]
    }
   ],
   "source": [
    "import os\n",
    "print(\"현재 경로:\", os.getcwd())\n"
   ]
  },
  {
   "cell_type": "code",
   "execution_count": 28,
   "id": "e1e1799b",
   "metadata": {},
   "outputs": [
    {
     "name": "stdout",
     "output_type": "stream",
     "text": [
      "✅ 존재함: c:\\Users\\SSAFY\\Desktop\\daramstudy\\ImageAnalysis\\손 동적 모델 data 수집\\..\\gesture_data\\fire.npy\n",
      "✅ 존재함: c:\\Users\\SSAFY\\Desktop\\daramstudy\\ImageAnalysis\\손 동적 모델 data 수집\\..\\gesture_data\\shot.npy\n",
      "✅ 존재함: c:\\Users\\SSAFY\\Desktop\\daramstudy\\ImageAnalysis\\손 동적 모델 data 수집\\..\\gesture_data\\nono.npy\n",
      "✅ 존재함: c:\\Users\\SSAFY\\Desktop\\daramstudy\\ImageAnalysis\\손 동적 모델 data 수집\\..\\gesture_data\\hit.npy\n",
      "✅ 존재함: c:\\Users\\SSAFY\\Desktop\\daramstudy\\ImageAnalysis\\손 동적 모델 data 수집\\..\\gesture_data\\hi.npy\n",
      "✅ 존재함: c:\\Users\\SSAFY\\Desktop\\daramstudy\\ImageAnalysis\\손 동적 모델 data 수집\\..\\gesture_data\\nyan.npy\n",
      "✅ 존재함: c:\\Users\\SSAFY\\Desktop\\daramstudy\\ImageAnalysis\\손 동적 모델 data 수집\\..\\gesture_data\\none.npy\n"
     ]
    }
   ],
   "source": [
    "import os\n",
    "\n",
    "DATA_PATH = os.path.join(os.getcwd(), '..', 'gesture_data')\n",
    "gestures = ['fire', 'shot', 'nono', 'hit', 'hi', 'nyan', 'none']\n",
    "\n",
    "for label in gestures:\n",
    "    file_path = os.path.join(DATA_PATH, f\"{label}.npy\")\n",
    "    if os.path.exists(file_path):\n",
    "        print(f\"✅ 존재함: {file_path}\")\n",
    "    else:\n",
    "        print(f\"❌ 없음: {file_path}\")\n"
   ]
  },
  {
   "cell_type": "code",
   "execution_count": 29,
   "id": "bbfb4105",
   "metadata": {},
   "outputs": [
    {
     "name": "stdout",
     "output_type": "stream",
     "text": [
      "✅ X shape: (2157, 30, 63)\n",
      "✅ y shape: (2157, 7)\n"
     ]
    }
   ],
   "source": [
    "import numpy as np\n",
    "import os\n",
    "from sklearn.preprocessing import LabelEncoder\n",
    "from tensorflow.keras.utils import to_categorical\n",
    "\n",
    "DATA_PATH = os.path.join(os.getcwd(), '..', 'gesture_data')\n",
    "gestures = ['fire', 'shot', 'nono', 'hit', 'hi', 'nyan', 'none']\n",
    "\n",
    "X = []\n",
    "y = []\n",
    "\n",
    "# 각 제스처 파일 로드\n",
    "for label in gestures:\n",
    "    file_path = os.path.join(DATA_PATH, f\"{label}.npy\")\n",
    "    sequences = np.load(file_path)  # shape: (n_sequences, 30, 63)\n",
    "    \n",
    "    X.extend(sequences)\n",
    "    y.extend([label] * len(sequences))  # 각 sequence에 해당 라벨 추가\n",
    "\n",
    "X = np.array(X)\n",
    "y = np.array(y)\n",
    "\n",
    "# 라벨 인코딩 (문자 → 숫자 → 원-핫 벡터)\n",
    "label_encoder = LabelEncoder()\n",
    "y_encoded = label_encoder.fit_transform(y)\n",
    "y_categorical = to_categorical(y_encoded)\n",
    "\n",
    "print(\"✅ X shape:\", X.shape)  # (전체 sequence 개수, 30, 63)\n",
    "print(\"✅ y shape:\", y_categorical.shape)  # (전체 sequence 개수, 클래스 수)\n"
   ]
  },
  {
   "cell_type": "code",
   "execution_count": 30,
   "id": "86002b34",
   "metadata": {},
   "outputs": [
    {
     "name": "stdout",
     "output_type": "stream",
     "text": [
      "Epoch 1/30\n"
     ]
    },
    {
     "name": "stderr",
     "output_type": "stream",
     "text": [
      "c:\\Users\\SSAFY\\AppData\\Local\\Programs\\Python\\Python310\\lib\\site-packages\\keras\\src\\layers\\rnn\\rnn.py:199: UserWarning: Do not pass an `input_shape`/`input_dim` argument to a layer. When using Sequential models, prefer using an `Input(shape)` object as the first layer in the model instead.\n",
      "  super().__init__(**kwargs)\n"
     ]
    },
    {
     "name": "stdout",
     "output_type": "stream",
     "text": [
      "\u001b[1m54/54\u001b[0m \u001b[32m━━━━━━━━━━━━━━━━━━━━\u001b[0m\u001b[37m\u001b[0m \u001b[1m2s\u001b[0m 16ms/step - accuracy: 0.3109 - loss: 1.8257 - val_accuracy: 0.4722 - val_loss: 1.3237\n",
      "Epoch 2/30\n",
      "\u001b[1m54/54\u001b[0m \u001b[32m━━━━━━━━━━━━━━━━━━━━\u001b[0m\u001b[37m\u001b[0m \u001b[1m1s\u001b[0m 12ms/step - accuracy: 0.5285 - loss: 1.2967 - val_accuracy: 0.6204 - val_loss: 1.1238\n",
      "Epoch 3/30\n",
      "\u001b[1m54/54\u001b[0m \u001b[32m━━━━━━━━━━━━━━━━━━━━\u001b[0m\u001b[37m\u001b[0m \u001b[1m1s\u001b[0m 13ms/step - accuracy: 0.6028 - loss: 1.2016 - val_accuracy: 0.6875 - val_loss: 1.0162\n",
      "Epoch 4/30\n",
      "\u001b[1m54/54\u001b[0m \u001b[32m━━━━━━━━━━━━━━━━━━━━\u001b[0m\u001b[37m\u001b[0m \u001b[1m1s\u001b[0m 11ms/step - accuracy: 0.7142 - loss: 0.8441 - val_accuracy: 0.7940 - val_loss: 0.6092\n",
      "Epoch 5/30\n",
      "\u001b[1m54/54\u001b[0m \u001b[32m━━━━━━━━━━━━━━━━━━━━\u001b[0m\u001b[37m\u001b[0m \u001b[1m1s\u001b[0m 11ms/step - accuracy: 0.8546 - loss: 0.5133 - val_accuracy: 0.8356 - val_loss: 0.4520\n",
      "Epoch 6/30\n",
      "\u001b[1m54/54\u001b[0m \u001b[32m━━━━━━━━━━━━━━━━━━━━\u001b[0m\u001b[37m\u001b[0m \u001b[1m1s\u001b[0m 11ms/step - accuracy: 0.8673 - loss: 0.3957 - val_accuracy: 0.7847 - val_loss: 0.7422\n",
      "Epoch 7/30\n",
      "\u001b[1m54/54\u001b[0m \u001b[32m━━━━━━━━━━━━━━━━━━━━\u001b[0m\u001b[37m\u001b[0m \u001b[1m1s\u001b[0m 11ms/step - accuracy: 0.8225 - loss: 0.6446 - val_accuracy: 0.8796 - val_loss: 0.5115\n",
      "Epoch 8/30\n",
      "\u001b[1m54/54\u001b[0m \u001b[32m━━━━━━━━━━━━━━━━━━━━\u001b[0m\u001b[37m\u001b[0m \u001b[1m1s\u001b[0m 11ms/step - accuracy: 0.8729 - loss: 0.4775 - val_accuracy: 0.8333 - val_loss: 0.5397\n",
      "Epoch 9/30\n",
      "\u001b[1m54/54\u001b[0m \u001b[32m━━━━━━━━━━━━━━━━━━━━\u001b[0m\u001b[37m\u001b[0m \u001b[1m1s\u001b[0m 11ms/step - accuracy: 0.7818 - loss: 0.9374 - val_accuracy: 0.7523 - val_loss: 0.7207\n",
      "Epoch 10/30\n",
      "\u001b[1m54/54\u001b[0m \u001b[32m━━━━━━━━━━━━━━━━━━━━\u001b[0m\u001b[37m\u001b[0m \u001b[1m1s\u001b[0m 11ms/step - accuracy: 0.7579 - loss: 0.6400 - val_accuracy: 0.8356 - val_loss: 0.5410\n",
      "Epoch 11/30\n",
      "\u001b[1m54/54\u001b[0m \u001b[32m━━━━━━━━━━━━━━━━━━━━\u001b[0m\u001b[37m\u001b[0m \u001b[1m1s\u001b[0m 11ms/step - accuracy: 0.8370 - loss: 0.4808 - val_accuracy: 0.6111 - val_loss: 1.5909\n",
      "Epoch 12/30\n",
      "\u001b[1m54/54\u001b[0m \u001b[32m━━━━━━━━━━━━━━━━━━━━\u001b[0m\u001b[37m\u001b[0m \u001b[1m1s\u001b[0m 11ms/step - accuracy: 0.7270 - loss: 0.8960 - val_accuracy: 0.9213 - val_loss: 0.3798\n",
      "Epoch 13/30\n",
      "\u001b[1m54/54\u001b[0m \u001b[32m━━━━━━━━━━━━━━━━━━━━\u001b[0m\u001b[37m\u001b[0m \u001b[1m1s\u001b[0m 11ms/step - accuracy: 0.9122 - loss: 0.3312 - val_accuracy: 0.8958 - val_loss: 0.4077\n",
      "Epoch 14/30\n",
      "\u001b[1m54/54\u001b[0m \u001b[32m━━━━━━━━━━━━━━━━━━━━\u001b[0m\u001b[37m\u001b[0m \u001b[1m1s\u001b[0m 11ms/step - accuracy: 0.9182 - loss: 0.2349 - val_accuracy: 0.9282 - val_loss: 0.2768\n",
      "Epoch 15/30\n",
      "\u001b[1m54/54\u001b[0m \u001b[32m━━━━━━━━━━━━━━━━━━━━\u001b[0m\u001b[37m\u001b[0m \u001b[1m1s\u001b[0m 11ms/step - accuracy: 0.9438 - loss: 0.2075 - val_accuracy: 0.9190 - val_loss: 0.3042\n",
      "Epoch 16/30\n",
      "\u001b[1m54/54\u001b[0m \u001b[32m━━━━━━━━━━━━━━━━━━━━\u001b[0m\u001b[37m\u001b[0m \u001b[1m1s\u001b[0m 12ms/step - accuracy: 0.9255 - loss: 0.2556 - val_accuracy: 0.9421 - val_loss: 0.2815\n",
      "Epoch 17/30\n",
      "\u001b[1m54/54\u001b[0m \u001b[32m━━━━━━━━━━━━━━━━━━━━\u001b[0m\u001b[37m\u001b[0m \u001b[1m1s\u001b[0m 11ms/step - accuracy: 0.9509 - loss: 0.1898 - val_accuracy: 0.9630 - val_loss: 0.1974\n",
      "Epoch 18/30\n",
      "\u001b[1m54/54\u001b[0m \u001b[32m━━━━━━━━━━━━━━━━━━━━\u001b[0m\u001b[37m\u001b[0m \u001b[1m1s\u001b[0m 11ms/step - accuracy: 0.9555 - loss: 0.1787 - val_accuracy: 0.9560 - val_loss: 0.1941\n",
      "Epoch 19/30\n",
      "\u001b[1m54/54\u001b[0m \u001b[32m━━━━━━━━━━━━━━━━━━━━\u001b[0m\u001b[37m\u001b[0m \u001b[1m1s\u001b[0m 11ms/step - accuracy: 0.9691 - loss: 0.1184 - val_accuracy: 0.9630 - val_loss: 0.1578\n",
      "Epoch 20/30\n",
      "\u001b[1m54/54\u001b[0m \u001b[32m━━━━━━━━━━━━━━━━━━━━\u001b[0m\u001b[37m\u001b[0m \u001b[1m1s\u001b[0m 11ms/step - accuracy: 0.9644 - loss: 0.1118 - val_accuracy: 0.9583 - val_loss: 0.1907\n",
      "Epoch 21/30\n",
      "\u001b[1m54/54\u001b[0m \u001b[32m━━━━━━━━━━━━━━━━━━━━\u001b[0m\u001b[37m\u001b[0m \u001b[1m1s\u001b[0m 11ms/step - accuracy: 0.9674 - loss: 0.0981 - val_accuracy: 0.9630 - val_loss: 0.1368\n",
      "Epoch 22/30\n",
      "\u001b[1m54/54\u001b[0m \u001b[32m━━━━━━━━━━━━━━━━━━━━\u001b[0m\u001b[37m\u001b[0m \u001b[1m1s\u001b[0m 11ms/step - accuracy: 0.9780 - loss: 0.0829 - val_accuracy: 0.9792 - val_loss: 0.1398\n",
      "Epoch 23/30\n",
      "\u001b[1m54/54\u001b[0m \u001b[32m━━━━━━━━━━━━━━━━━━━━\u001b[0m\u001b[37m\u001b[0m \u001b[1m1s\u001b[0m 11ms/step - accuracy: 0.9710 - loss: 0.0887 - val_accuracy: 0.9676 - val_loss: 0.1347\n",
      "Epoch 24/30\n",
      "\u001b[1m54/54\u001b[0m \u001b[32m━━━━━━━━━━━━━━━━━━━━\u001b[0m\u001b[37m\u001b[0m \u001b[1m1s\u001b[0m 11ms/step - accuracy: 0.9655 - loss: 0.1082 - val_accuracy: 0.9745 - val_loss: 0.1529\n",
      "Epoch 25/30\n",
      "\u001b[1m54/54\u001b[0m \u001b[32m━━━━━━━━━━━━━━━━━━━━\u001b[0m\u001b[37m\u001b[0m \u001b[1m1s\u001b[0m 11ms/step - accuracy: 0.9842 - loss: 0.0518 - val_accuracy: 0.9838 - val_loss: 0.1412\n",
      "Epoch 26/30\n",
      "\u001b[1m54/54\u001b[0m \u001b[32m━━━━━━━━━━━━━━━━━━━━\u001b[0m\u001b[37m\u001b[0m \u001b[1m1s\u001b[0m 11ms/step - accuracy: 0.9842 - loss: 0.0492 - val_accuracy: 0.9769 - val_loss: 0.1065\n",
      "Epoch 27/30\n",
      "\u001b[1m54/54\u001b[0m \u001b[32m━━━━━━━━━━━━━━━━━━━━\u001b[0m\u001b[37m\u001b[0m \u001b[1m1s\u001b[0m 11ms/step - accuracy: 0.9828 - loss: 0.0671 - val_accuracy: 0.9745 - val_loss: 0.1539\n",
      "Epoch 28/30\n",
      "\u001b[1m54/54\u001b[0m \u001b[32m━━━━━━━━━━━━━━━━━━━━\u001b[0m\u001b[37m\u001b[0m \u001b[1m1s\u001b[0m 11ms/step - accuracy: 0.9809 - loss: 0.0625 - val_accuracy: 0.9838 - val_loss: 0.2065\n",
      "Epoch 29/30\n",
      "\u001b[1m54/54\u001b[0m \u001b[32m━━━━━━━━━━━━━━━━━━━━\u001b[0m\u001b[37m\u001b[0m \u001b[1m1s\u001b[0m 11ms/step - accuracy: 0.9819 - loss: 0.0652 - val_accuracy: 0.9815 - val_loss: 0.1041\n",
      "Epoch 30/30\n",
      "\u001b[1m54/54\u001b[0m \u001b[32m━━━━━━━━━━━━━━━━━━━━\u001b[0m\u001b[37m\u001b[0m \u001b[1m1s\u001b[0m 11ms/step - accuracy: 0.9827 - loss: 0.0588 - val_accuracy: 0.9676 - val_loss: 0.2179\n"
     ]
    },
    {
     "name": "stderr",
     "output_type": "stream",
     "text": [
      "WARNING:absl:You are saving your model as an HDF5 file via `model.save()` or `keras.saving.save_model(model)`. This file format is considered legacy. We recommend using instead the native Keras format, e.g. `model.save('my_model.keras')` or `keras.saving.save_model(model, 'my_model.keras')`. \n"
     ]
    },
    {
     "name": "stdout",
     "output_type": "stream",
     "text": [
      "✅ 모델 저장 완료: gesture_rnn_model12.h5\n"
     ]
    }
   ],
   "source": [
    "from tensorflow.keras.models import Sequential\n",
    "from tensorflow.keras.layers import LSTM, Dense, Dropout\n",
    "from sklearn.model_selection import train_test_split\n",
    "\n",
    "# 데이터셋 나누기\n",
    "X_train, X_test, y_train, y_test = train_test_split(\n",
    "    X, y_categorical, test_size=0.2, random_state=42, shuffle=True\n",
    ")\n",
    "\n",
    "# 모델 정의\n",
    "model = Sequential()\n",
    "model.add(LSTM(64, return_sequences=True, activation='relu', input_shape=(30, 63)))\n",
    "model.add(LSTM(64, return_sequences=False, activation='relu'))\n",
    "model.add(Dropout(0.3))\n",
    "model.add(Dense(64, activation='relu'))\n",
    "model.add(Dense(len(gestures), activation='softmax'))  # 클래스 수 = 6\n",
    "\n",
    "# 컴파일\n",
    "model.compile(optimizer='adam', loss='categorical_crossentropy', metrics=['accuracy'])\n",
    "\n",
    "# 학습\n",
    "history = model.fit(\n",
    "    X_train, y_train,\n",
    "    epochs=30,\n",
    "    batch_size=32,\n",
    "    validation_data=(X_test, y_test)\n",
    ")\n",
    "\n",
    "# 저장\n",
    "model.save('gesture_rnn_model1.h5')\n",
    "print(\"✅ 모델 저장 완료: gesture_rnn_model12.h5\")\n"
   ]
  },
  {
   "cell_type": "code",
   "execution_count": 22,
   "id": "804acfeb",
   "metadata": {},
   "outputs": [
    {
     "data": {
      "image/png": "[encoded data removed]",
      "text/plain": [
       "<Figure size 640x480 with 1 Axes>"
      ]
     },
     "metadata": {},
     "output_type": "display_data"
    }
   ],
   "source": [
    "import matplotlib.pyplot as plt\n",
    "\n",
    "plt.plot(history.history['accuracy'], label='train acc')\n",
    "plt.plot(history.history['val_accuracy'], label='val acc')\n",
    "plt.legend()\n",
    "plt.title('Accuracy')\n",
    "plt.show()\n"
   ]
  }
 ],
 "metadata": {
  "kernelspec": {
   "display_name": "Python 3",
   "language": "python",
   "name": "python3"
  },
  "language_info": {
   "codemirror_mode": {
    "name": "ipython",
    "version": 3
   },
   "file_extension": ".py",
   "mimetype": "text/x-python",
   "name": "python",
   "nbconvert_exporter": "python",
   "pygments_lexer": "ipython3",
   "version": "3.10.10"
  }
 },
 "nbformat": 4,
 "nbformat_minor": 5
}
