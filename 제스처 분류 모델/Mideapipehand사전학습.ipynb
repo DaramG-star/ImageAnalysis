{
 "cells": [
  {
   "cell_type": "markdown",
   "id": "549dd65b",
   "metadata": {},
   "source": [
    "### Mediapipe Hands\n",
    "\n",
    "#### Mediapipe Hands란?\n",
    "\n",
    "Mediapipe Hands는 Google에서 만든 손 추적 솔루션으로,\n",
    "\n",
    "1장의 이미지나 영상에서 최대 2개의 손을 실시간으로 인식하고\n",
    "\n",
    "**각 손의 21개 관절 위치 (landmarks)**를 3D로 추적합니다.\n",
    "\n",
    "각 landmark는 (x, y, z) 좌표\n",
    "\n",
    "x, y: [0, 1] 사이의 상대 좌표 (전체 이미지 기준)\n",
    "\n",
    "z: 깊이값 (음수가 카메라 가까이)"
   ]
  },
  {
   "cell_type": "markdown",
   "id": "9d255131",
   "metadata": {},
   "source": [
    "21개 손 관절 구조\n",
    "\n",
    "Mediapipe에서 한 손에는 0~20까지 총 21개의 landmark가 있습니다.\n",
    "\n",
    "```\n",
    "                   8       12       16        20\n",
    "                (Index)  (Middle) (Ring)   (Pinky)\n",
    "                   |        |        |        |\n",
    "                   |        |        |        |\n",
    "        5 — 6 — 7 — 8    9 -10 -11 -12  13-14-15-16   17-18-19-20\n",
    "         \\                     /                      /\n",
    "          \\                   /                      /\n",
    "           \\                 /                      /\n",
    "             0 — 1 — 2 — 3 — 4\n",
    "                (Wrist)-(Thumb)\n",
    "\n",
    "```\n",
    "\n",
    "| 번호     | 이름          | 설명              |\n",
    "| ------ | ----------- | --------------- |\n",
    "| 0      | wrist       | 손목 (기준점)        |\n",
    "| 1\\~4   | thumb (엄지)  | 엄지의 base\\~tip   |\n",
    "| 5\\~8   | index (검지)  | 검지의 base\\~tip   |\n",
    "| 9\\~12  | middle (중지) | 중지의 base\\~tip   |\n",
    "| 13\\~16 | ring (약지)   | 약지의 base\\~tip   |\n",
    "| 17\\~20 | pinky (소지)  | 새끼손가락 base\\~tip |\n",
    "\n"
   ]
  },
  {
   "cell_type": "markdown",
   "id": "d2f2bd01",
   "metadata": {},
   "source": [
    "#### 좌표 값 의미\n",
    "\n",
    "각 landmark는 landmark[i].x, landmark[i].y, landmark[i].z로 접근 가능\n",
    "\n",
    "x: 좌우 위치 (0 = 왼쪽, 1 = 오른쪽)\n",
    "\n",
    "y: 위아래 위치 (0 = 위쪽, 1 = 아래쪽)\n",
    "\n",
    "z: 손에서 카메라까지의 상대 거리 (음수일수록 가까움)\n",
    "\n",
    "👉 OpenCV에서 좌표 사용할 땐 int(x * width), int(y * height)로 변환해서 써야 합니다."
   ]
  },
  {
   "cell_type": "markdown",
   "id": "7f597225",
   "metadata": {},
   "source": [
    "✌️ 검지 핀 상태 판별\n",
    "```\n",
    "index_tip = hand_landmark[8]\n",
    "index_pip = hand_landmark[6]\n",
    "if index_tip.y < index_pip.y:\n",
    "    print(\"검지 핌\")\n",
    "```\n",
    "👍 엄지 up/down 판별\n",
    "```\n",
    "thumb_tip = hand_landmark[4]\n",
    "thumb_mcp = hand_landmark[2]\n",
    "if thumb_tip.x > thumb_mcp.x:  # 오른손 기준\n",
    "    print(\"엄지 펴짐\")\n",
    "```"
   ]
  },
  {
   "cell_type": "markdown",
   "id": "ba1e6c77",
   "metadata": {},
   "source": [
    "#### Handedness : 왼손/오른손 구분\n",
    "\n",
    "```\n",
    "results.multi_handedness[0].classification[0].label\n",
    "```"
   ]
  },
  {
   "cell_type": "markdown",
   "id": "8c37ae70",
   "metadata": {},
   "source": [
    "#### mediapipe로 실시간 추적 예제\n",
    "\n",
    "```\n",
    "import cv2\n",
    "import mediapipe as mp\n",
    "\n",
    "mp_hands = mp.solutions.hands\n",
    "hands = mp_hands.Hands(max_num_hands=2)\n",
    "mp_draw = mp.solutions.drawing_utils\n",
    "\n",
    "cap = cv2.VideoCapture(0)\n",
    "\n",
    "while True:\n",
    "    ret, frame = cap.read()\n",
    "    frame_rgb = cv2.cvtColor(frame, cv2.COLOR_BGR2RGB)\n",
    "    result = hands.process(frame_rgb)\n",
    "\n",
    "    if result.multi_hand_landmarks:\n",
    "        for hand_landmarks in result.multi_hand_landmarks:\n",
    "            mp_draw.draw_landmarks(frame, hand_landmarks, mp_hands.HAND_CONNECTIONS)\n",
    "\n",
    "            # 예: index_tip 좌표 출력\n",
    "            x = hand_landmarks.landmark[8].x\n",
    "            y = hand_landmarks.landmark[8].y\n",
    "            print(\"검지 끝 좌표:\", x, y)\n",
    "\n",
    "    cv2.imshow('Hands', frame)\n",
    "    if cv2.waitKey(1) & 0xFF == 27:\n",
    "        break\n",
    "\n",
    "```"
   ]
  },
  {
   "cell_type": "markdown",
   "id": "d9ae93de",
   "metadata": {},
   "source": [
    "### 21개 Landmark 이름 요약표\n",
    "| 번호 | 이름          |\n",
    "| -- | ----------- |\n",
    "| 0  | wrist       |\n",
    "| 1  | thumb\\_cmc  |\n",
    "| 2  | thumb\\_mcp  |\n",
    "| 3  | thumb\\_ip   |\n",
    "| 4  | thumb\\_tip  |\n",
    "| 5  | index\\_mcp  |\n",
    "| 6  | index\\_pip  |\n",
    "| 7  | index\\_dip  |\n",
    "| 8  | index\\_tip  |\n",
    "| 9  | middle\\_mcp |\n",
    "| 10 | middle\\_pip |\n",
    "| 11 | middle\\_dip |\n",
    "| 12 | middle\\_tip |\n",
    "| 13 | ring\\_mcp   |\n",
    "| 14 | ring\\_pip   |\n",
    "| 15 | ring\\_dip   |\n",
    "| 16 | ring\\_tip   |\n",
    "| 17 | pinky\\_mcp  |\n",
    "| 18 | pinky\\_pip  |\n",
    "| 19 | pinky\\_dip  |\n",
    "| 20 | pinky\\_tip  |\n"
   ]
  }
 ],
 "metadata": {
  "language_info": {
   "name": "python"
  }
 },
 "nbformat": 4,
 "nbformat_minor": 5
}
