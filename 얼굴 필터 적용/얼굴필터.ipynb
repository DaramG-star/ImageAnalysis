{
 "cells": [
  {
   "cell_type": "markdown",
   "id": "8b303a48",
   "metadata": {},
   "source": [
    "### 얼굴 필터 적용"
   ]
  },
  {
   "cell_type": "code",
   "execution_count": 4,
   "id": "6109c794",
   "metadata": {},
   "outputs": [
    {
     "ename": "KeyboardInterrupt",
     "evalue": "",
     "output_type": "error",
     "traceback": [
      "\u001b[1;31m---------------------------------------------------------------------------\u001b[0m",
      "\u001b[1;31mKeyboardInterrupt\u001b[0m                         Traceback (most recent call last)",
      "Cell \u001b[1;32mIn[4], line 25\u001b[0m\n\u001b[0;32m     22\u001b[0m cap \u001b[38;5;241m=\u001b[39m cv2\u001b[38;5;241m.\u001b[39mVideoCapture(\u001b[38;5;241m0\u001b[39m)\n\u001b[0;32m     24\u001b[0m \u001b[38;5;28;01mwhile\u001b[39;00m \u001b[38;5;28;01mTrue\u001b[39;00m:\n\u001b[1;32m---> 25\u001b[0m     ret, frame \u001b[38;5;241m=\u001b[39m \u001b[43mcap\u001b[49m\u001b[38;5;241;43m.\u001b[39;49m\u001b[43mread\u001b[49m\u001b[43m(\u001b[49m\u001b[43m)\u001b[49m\n\u001b[0;32m     26\u001b[0m     \u001b[38;5;28;01mif\u001b[39;00m \u001b[38;5;129;01mnot\u001b[39;00m ret:\n\u001b[0;32m     27\u001b[0m         \u001b[38;5;28;01mbreak\u001b[39;00m\n",
      "\u001b[1;31mKeyboardInterrupt\u001b[0m: "
     ]
    }
   ],
   "source": [
    "import cv2\n",
    "import mediapipe as mp\n",
    "import numpy as np\n",
    "\n",
    "# 람쥐 필터 이미지 (투명 PNG)\n",
    "filter_img = cv2.imread('squirrel.png', cv2.IMREAD_UNCHANGED)\n",
    "\n",
    "# mediapipe 얼굴 검출 초기화\n",
    "mp_face = mp.solutions.face_detection\n",
    "mp_draw = mp.solutions.drawing_utils\n",
    "face_detection = mp_face.FaceDetection(model_selection=0, min_detection_confidence=0.5)\n",
    "\n",
    "# 필터 오버레이 함수\n",
    "def overlay_filter(frame, filter_img, x, y, w, h):\n",
    "    filter_resized = cv2.resize(filter_img, (w, h))\n",
    "\n",
    "    for c in range(3):  # BGR 채널\n",
    "        frame[y:y+h, x:x+w, c] = frame[y:y+h, x:x+w, c] * (1 - filter_resized[:, :, 3]/255.0) + \\\n",
    "                                 filter_resized[:, :, c] * (filter_resized[:, :, 3]/255.0)\n",
    "\n",
    "# 웹캠 열기\n",
    "cap = cv2.VideoCapture(0)\n",
    "\n",
    "while True:\n",
    "    ret, frame = cap.read()\n",
    "    if not ret:\n",
    "        break\n",
    "\n",
    "    # 좌우 반전\n",
    "    frame = cv2.flip(frame, 1)\n",
    "    h, w, _ = frame.shape\n",
    "\n",
    "    # 얼굴 감지\n",
    "    results = face_detection.process(cv2.cvtColor(frame, cv2.COLOR_BGR2RGB))\n",
    "\n",
    "    if results.detections:\n",
    "        for detection in results.detections:\n",
    "            bboxC = detection.location_data.relative_bounding_box\n",
    "            x = int(bboxC.xmin * w)\n",
    "            y = int(bboxC.ymin * h)\n",
    "            box_w = int(bboxC.width * w)\n",
    "            box_h = int(bboxC.height * h)\n",
    "\n",
    "            # 얼굴 기준으로 필터 위치 조정 (이마 쪽으로 위로 이동)\n",
    "            offset_y = int(box_h * 0.4)\n",
    "            x1 = max(0, x - int(box_w * 0.2))\n",
    "            y1 = max(0, y - offset_y)\n",
    "            x2 = min(w, x1 + int(box_w * 1.4))\n",
    "            y2 = min(h, y1 + int(box_h * 1.5))\n",
    "\n",
    "            filter_w = x2 - x1\n",
    "            filter_h = y2 - y1\n",
    "\n",
    "            if filter_w > 0 and filter_h > 0:\n",
    "                overlay_filter(frame, filter_img, x1, y1, filter_w, filter_h)\n",
    "\n",
    "    cv2.imshow('Squirrel Filter 🐿️', frame)\n",
    "\n",
    "    if cv2.waitKey(1) == ord('q'):\n",
    "        break\n",
    "\n",
    "cap.release()\n",
    "cv2.destroyAllWindows()\n"
   ]
  },
  {
   "cell_type": "markdown",
   "id": "ed961d6a",
   "metadata": {},
   "source": []
  }
 ],
 "metadata": {
  "kernelspec": {
   "display_name": "Python 3",
   "language": "python",
   "name": "python3"
  },
  "language_info": {
   "codemirror_mode": {
    "name": "ipython",
    "version": 3
   },
   "file_extension": ".py",
   "mimetype": "text/x-python",
   "name": "python",
   "nbconvert_exporter": "python",
   "pygments_lexer": "ipython3",
   "version": "3.10.10"
  }
 },
 "nbformat": 4,
 "nbformat_minor": 5
}
