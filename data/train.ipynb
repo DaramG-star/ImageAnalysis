{
 "cells": [
  {
   "cell_type": "code",
   "execution_count": 12,
   "metadata": {},
   "outputs": [],
   "source": [
    "import pandas as pd\n",
    "from sklearn.model_selection import train_test_split\n",
    "from sklearn.preprocessing import LabelEncoder\n",
    "import numpy as np\n",
    "\n",
    "# CSV 불러오기\n",
    "df = pd.read_csv(\"hand_landmarks.csv\")\n",
    "\n",
    "# 라벨과 좌표 분리\n",
    "X = df.drop(\"label\", axis=1).values.astype(np.float32)\n",
    "y = df[\"label\"].values\n",
    "\n",
    "# 라벨 인코딩 (문자 → 숫자)\n",
    "label_encoder = LabelEncoder()\n",
    "y_encoded = label_encoder.fit_transform(y)\n",
    "\n",
    "# 학습 / 검증 분리\n",
    "X_train, X_test, y_train, y_test = train_test_split(X, y_encoded, test_size=0.2, random_state=42)\n"
   ]
  },
  {
   "cell_type": "code",
   "execution_count": 13,
   "metadata": {},
   "outputs": [
    {
     "name": "stderr",
     "output_type": "stream",
     "text": [
      "c:\\Users\\SSAFY\\AppData\\Local\\Programs\\Python\\Python310\\lib\\site-packages\\keras\\src\\layers\\core\\dense.py:93: UserWarning: Do not pass an `input_shape`/`input_dim` argument to a layer. When using Sequential models, prefer using an `Input(shape)` object as the first layer in the model instead.\n",
      "  super().__init__(activity_regularizer=activity_regularizer, **kwargs)\n"
     ]
    }
   ],
   "source": [
    "import tensorflow as tf\n",
    "from tensorflow.keras.models import Sequential\n",
    "from tensorflow.keras.layers import Dense, Dropout\n",
    "\n",
    "model = Sequential([\n",
    "    Dense(128, activation='relu', input_shape=(X.shape[1],)),\n",
    "    Dropout(0.3),\n",
    "    Dense(64, activation='relu'),\n",
    "    Dropout(0.3),\n",
    "    Dense(len(label_encoder.classes_), activation='softmax')\n",
    "])\n",
    "\n",
    "model.compile(\n",
    "    optimizer='adam',\n",
    "    loss='sparse_categorical_crossentropy',\n",
    "    metrics=['accuracy']\n",
    ")\n"
   ]
  },
  {
   "cell_type": "code",
   "execution_count": 14,
   "metadata": {},
   "outputs": [
    {
     "name": "stdout",
     "output_type": "stream",
     "text": [
      "Epoch 1/30\n",
      "\u001b[1m2954/2954\u001b[0m \u001b[32m━━━━━━━━━━━━━━━━━━━━\u001b[0m\u001b[37m\u001b[0m \u001b[1m4s\u001b[0m 1ms/step - accuracy: 0.6139 - loss: 1.1591 - val_accuracy: 0.9391 - val_loss: 0.2531\n",
      "Epoch 2/30\n",
      "\u001b[1m2954/2954\u001b[0m \u001b[32m━━━━━━━━━━━━━━━━━━━━\u001b[0m\u001b[37m\u001b[0m \u001b[1m3s\u001b[0m 1ms/step - accuracy: 0.9126 - loss: 0.3240 - val_accuracy: 0.9631 - val_loss: 0.1509\n",
      "Epoch 3/30\n",
      "\u001b[1m2954/2954\u001b[0m \u001b[32m━━━━━━━━━━━━━━━━━━━━\u001b[0m\u001b[37m\u001b[0m \u001b[1m4s\u001b[0m 1ms/step - accuracy: 0.9411 - loss: 0.2225 - val_accuracy: 0.9738 - val_loss: 0.1122\n",
      "Epoch 4/30\n",
      "\u001b[1m2954/2954\u001b[0m \u001b[32m━━━━━━━━━━━━━━━━━━━━\u001b[0m\u001b[37m\u001b[0m \u001b[1m4s\u001b[0m 1ms/step - accuracy: 0.9536 - loss: 0.1784 - val_accuracy: 0.9766 - val_loss: 0.0951\n",
      "Epoch 5/30\n",
      "\u001b[1m2954/2954\u001b[0m \u001b[32m━━━━━━━━━━━━━━━━━━━━\u001b[0m\u001b[37m\u001b[0m \u001b[1m4s\u001b[0m 1ms/step - accuracy: 0.9606 - loss: 0.1495 - val_accuracy: 0.9771 - val_loss: 0.0905\n",
      "Epoch 6/30\n",
      "\u001b[1m2954/2954\u001b[0m \u001b[32m━━━━━━━━━━━━━━━━━━━━\u001b[0m\u001b[37m\u001b[0m \u001b[1m4s\u001b[0m 1ms/step - accuracy: 0.9642 - loss: 0.1404 - val_accuracy: 0.9786 - val_loss: 0.0808\n",
      "Epoch 7/30\n",
      "\u001b[1m2954/2954\u001b[0m \u001b[32m━━━━━━━━━━━━━━━━━━━━\u001b[0m\u001b[37m\u001b[0m \u001b[1m4s\u001b[0m 1ms/step - accuracy: 0.9664 - loss: 0.1274 - val_accuracy: 0.9831 - val_loss: 0.0693\n",
      "Epoch 8/30\n",
      "\u001b[1m2954/2954\u001b[0m \u001b[32m━━━━━━━━━━━━━━━━━━━━\u001b[0m\u001b[37m\u001b[0m \u001b[1m4s\u001b[0m 1ms/step - accuracy: 0.9691 - loss: 0.1196 - val_accuracy: 0.9849 - val_loss: 0.0654\n",
      "Epoch 9/30\n",
      "\u001b[1m2954/2954\u001b[0m \u001b[32m━━━━━━━━━━━━━━━━━━━━\u001b[0m\u001b[37m\u001b[0m \u001b[1m4s\u001b[0m 1ms/step - accuracy: 0.9711 - loss: 0.1120 - val_accuracy: 0.9847 - val_loss: 0.0641\n",
      "Epoch 10/30\n",
      "\u001b[1m2954/2954\u001b[0m \u001b[32m━━━━━━━━━━━━━━━━━━━━\u001b[0m\u001b[37m\u001b[0m \u001b[1m4s\u001b[0m 1ms/step - accuracy: 0.9730 - loss: 0.1042 - val_accuracy: 0.9843 - val_loss: 0.0606\n",
      "Epoch 11/30\n",
      "\u001b[1m2954/2954\u001b[0m \u001b[32m━━━━━━━━━━━━━━━━━━━━\u001b[0m\u001b[37m\u001b[0m \u001b[1m4s\u001b[0m 1ms/step - accuracy: 0.9739 - loss: 0.1009 - val_accuracy: 0.9851 - val_loss: 0.0610\n",
      "Epoch 12/30\n",
      "\u001b[1m2954/2954\u001b[0m \u001b[32m━━━━━━━━━━━━━━━━━━━━\u001b[0m\u001b[37m\u001b[0m \u001b[1m4s\u001b[0m 1ms/step - accuracy: 0.9740 - loss: 0.0995 - val_accuracy: 0.9851 - val_loss: 0.0591\n",
      "Epoch 13/30\n",
      "\u001b[1m2954/2954\u001b[0m \u001b[32m━━━━━━━━━━━━━━━━━━━━\u001b[0m\u001b[37m\u001b[0m \u001b[1m4s\u001b[0m 1ms/step - accuracy: 0.9763 - loss: 0.0919 - val_accuracy: 0.9857 - val_loss: 0.0578\n",
      "Epoch 14/30\n",
      "\u001b[1m2954/2954\u001b[0m \u001b[32m━━━━━━━━━━━━━━━━━━━━\u001b[0m\u001b[37m\u001b[0m \u001b[1m4s\u001b[0m 1ms/step - accuracy: 0.9758 - loss: 0.0929 - val_accuracy: 0.9866 - val_loss: 0.0540\n",
      "Epoch 15/30\n",
      "\u001b[1m2954/2954\u001b[0m \u001b[32m━━━━━━━━━━━━━━━━━━━━\u001b[0m\u001b[37m\u001b[0m \u001b[1m4s\u001b[0m 1ms/step - accuracy: 0.9762 - loss: 0.0890 - val_accuracy: 0.9875 - val_loss: 0.0517\n",
      "Epoch 16/30\n",
      "\u001b[1m2954/2954\u001b[0m \u001b[32m━━━━━━━━━━━━━━━━━━━━\u001b[0m\u001b[37m\u001b[0m \u001b[1m4s\u001b[0m 1ms/step - accuracy: 0.9777 - loss: 0.0856 - val_accuracy: 0.9873 - val_loss: 0.0512\n",
      "Epoch 17/30\n",
      "\u001b[1m2954/2954\u001b[0m \u001b[32m━━━━━━━━━━━━━━━━━━━━\u001b[0m\u001b[37m\u001b[0m \u001b[1m4s\u001b[0m 1ms/step - accuracy: 0.9778 - loss: 0.0864 - val_accuracy: 0.9879 - val_loss: 0.0498\n",
      "Epoch 18/30\n",
      "\u001b[1m2954/2954\u001b[0m \u001b[32m━━━━━━━━━━━━━━━━━━━━\u001b[0m\u001b[37m\u001b[0m \u001b[1m4s\u001b[0m 1ms/step - accuracy: 0.9772 - loss: 0.0848 - val_accuracy: 0.9883 - val_loss: 0.0484\n",
      "Epoch 19/30\n",
      "\u001b[1m2954/2954\u001b[0m \u001b[32m━━━━━━━━━━━━━━━━━━━━\u001b[0m\u001b[37m\u001b[0m \u001b[1m4s\u001b[0m 1ms/step - accuracy: 0.9788 - loss: 0.0794 - val_accuracy: 0.9887 - val_loss: 0.0476\n",
      "Epoch 20/30\n",
      "\u001b[1m2954/2954\u001b[0m \u001b[32m━━━━━━━━━━━━━━━━━━━━\u001b[0m\u001b[37m\u001b[0m \u001b[1m4s\u001b[0m 1ms/step - accuracy: 0.9782 - loss: 0.0831 - val_accuracy: 0.9889 - val_loss: 0.0474\n",
      "Epoch 21/30\n",
      "\u001b[1m2954/2954\u001b[0m \u001b[32m━━━━━━━━━━━━━━━━━━━━\u001b[0m\u001b[37m\u001b[0m \u001b[1m4s\u001b[0m 1ms/step - accuracy: 0.9789 - loss: 0.0813 - val_accuracy: 0.9888 - val_loss: 0.0456\n",
      "Epoch 22/30\n",
      "\u001b[1m2954/2954\u001b[0m \u001b[32m━━━━━━━━━━━━━━━━━━━━\u001b[0m\u001b[37m\u001b[0m \u001b[1m4s\u001b[0m 1ms/step - accuracy: 0.9793 - loss: 0.0822 - val_accuracy: 0.9898 - val_loss: 0.0441\n",
      "Epoch 23/30\n",
      "\u001b[1m2954/2954\u001b[0m \u001b[32m━━━━━━━━━━━━━━━━━━━━\u001b[0m\u001b[37m\u001b[0m \u001b[1m4s\u001b[0m 1ms/step - accuracy: 0.9790 - loss: 0.0799 - val_accuracy: 0.9872 - val_loss: 0.0491\n",
      "Epoch 24/30\n",
      "\u001b[1m2954/2954\u001b[0m \u001b[32m━━━━━━━━━━━━━━━━━━━━\u001b[0m\u001b[37m\u001b[0m \u001b[1m4s\u001b[0m 1ms/step - accuracy: 0.9789 - loss: 0.0779 - val_accuracy: 0.9886 - val_loss: 0.0436\n",
      "Epoch 25/30\n",
      "\u001b[1m2954/2954\u001b[0m \u001b[32m━━━━━━━━━━━━━━━━━━━━\u001b[0m\u001b[37m\u001b[0m \u001b[1m4s\u001b[0m 1ms/step - accuracy: 0.9798 - loss: 0.0731 - val_accuracy: 0.9890 - val_loss: 0.0442\n",
      "Epoch 26/30\n",
      "\u001b[1m2954/2954\u001b[0m \u001b[32m━━━━━━━━━━━━━━━━━━━━\u001b[0m\u001b[37m\u001b[0m \u001b[1m4s\u001b[0m 1ms/step - accuracy: 0.9786 - loss: 0.0784 - val_accuracy: 0.9893 - val_loss: 0.0427\n",
      "Epoch 27/30\n",
      "\u001b[1m2954/2954\u001b[0m \u001b[32m━━━━━━━━━━━━━━━━━━━━\u001b[0m\u001b[37m\u001b[0m \u001b[1m4s\u001b[0m 1ms/step - accuracy: 0.9803 - loss: 0.0773 - val_accuracy: 0.9892 - val_loss: 0.0438\n",
      "Epoch 28/30\n",
      "\u001b[1m2954/2954\u001b[0m \u001b[32m━━━━━━━━━━━━━━━━━━━━\u001b[0m\u001b[37m\u001b[0m \u001b[1m4s\u001b[0m 1ms/step - accuracy: 0.9809 - loss: 0.0726 - val_accuracy: 0.9890 - val_loss: 0.0436\n",
      "Epoch 29/30\n",
      "\u001b[1m2954/2954\u001b[0m \u001b[32m━━━━━━━━━━━━━━━━━━━━\u001b[0m\u001b[37m\u001b[0m \u001b[1m5s\u001b[0m 2ms/step - accuracy: 0.9795 - loss: 0.0760 - val_accuracy: 0.9896 - val_loss: 0.0409\n",
      "Epoch 30/30\n",
      "\u001b[1m2954/2954\u001b[0m \u001b[32m━━━━━━━━━━━━━━━━━━━━\u001b[0m\u001b[37m\u001b[0m \u001b[1m5s\u001b[0m 2ms/step - accuracy: 0.9806 - loss: 0.0751 - val_accuracy: 0.9896 - val_loss: 0.0430\n"
     ]
    },
    {
     "data": {
      "text/plain": [
       "<keras.src.callbacks.history.History at 0x19882bcc0d0>"
      ]
     },
     "execution_count": 14,
     "metadata": {},
     "output_type": "execute_result"
    }
   ],
   "source": [
    "model.fit(\n",
    "    X_train, y_train,\n",
    "    validation_data=(X_test, y_test),\n",
    "    epochs=30,\n",
    "    batch_size=32\n",
    ")\n"
   ]
  },
  {
   "cell_type": "code",
   "execution_count": 15,
   "metadata": {},
   "outputs": [
    {
     "name": "stderr",
     "output_type": "stream",
     "text": [
      "WARNING:absl:You are saving your model as an HDF5 file via `model.save()` or `keras.saving.save_model(model)`. This file format is considered legacy. We recommend using instead the native Keras format, e.g. `model.save('my_model.keras')` or `keras.saving.save_model(model, 'my_model.keras')`. \n"
     ]
    }
   ],
   "source": [
    "model.save(\"gesture_model4.h5\")\n",
    "np.save(\"gesture_labels4.npy\", label_encoder.classes_)\n"
   ]
  }
 ],
 "metadata": {
  "kernelspec": {
   "display_name": "Python 3",
   "language": "python",
   "name": "python3"
  },
  "language_info": {
   "codemirror_mode": {
    "name": "ipython",
    "version": 3
   },
   "file_extension": ".py",
   "mimetype": "text/x-python",
   "name": "python",
   "nbconvert_exporter": "python",
   "pygments_lexer": "ipython3",
   "version": "3.10.10"
  }
 },
 "nbformat": 4,
 "nbformat_minor": 2
}
